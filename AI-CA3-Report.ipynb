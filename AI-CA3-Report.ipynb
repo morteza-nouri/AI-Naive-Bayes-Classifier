{
 "cells": [
  {
   "cell_type": "markdown",
   "id": "515384f9",
   "metadata": {},
   "source": [
    "# Artificial Intelligence :  Computer Assignment 3 - Naive Bayes Classifier\n",
    "> __Morteza Nouri, 810198481__\n",
    "\n",
    "## Goals:\n",
    "- Usage of Naive Bayes theorem\n",
    "- analyzing and classifying text\n",
    "- \n",
    "\n",
    "## Description:\n",
    "> \n"
   ]
  },
  {
   "cell_type": "markdown",
   "id": "471e16fb",
   "metadata": {},
   "source": [
    "## Part 1: Preprocess\n",
    "In this part I use [hazm library](https://www.roshan-ai.ir/hazm/) to process persian text in dataset. At first I remove all useless words(stopwords and punctuations) in the data then processing text using methods below:<br>\n",
    "- __Normalization:__ normalize and adjust spaces.\n",
    "- __Steamming:__ remove prefix and postfix of a word to find it's root.\n",
    "- __Lemmatization__: except removing postfix and prefix of word, it will verify that root to be correct in meaning.\n",
    " \n",
    " __Q1__: In our text we might see a word in different forms(e.g. Plural, singular), but they are from same root and can have same effect in our classification. According to methods mentiond above, I decide to use Normalization and Lemmatization. Lemmatization gives us __Bon-e-Maazi__ and __Bon-e-Mozare__ of a verb in persian language and two words which have same root, in most cases have same concept.<br>\n",
    " _Note: Steaming is not accurate, because in some cases it destructs the normal form of the word. So I prefer to use Lemmatization instead that gives better perfomance and reduces the count of words in our bag._\n"
   ]
  },
  {
   "cell_type": "code",
   "execution_count": 1,
   "id": "f4186832",
   "metadata": {},
   "outputs": [],
   "source": [
    "from __future__ import unicode_literals\n",
    "from hazm import *\n",
    "import pandas as pd\n",
    "\n",
    "\n",
    "class DataPreprocessor:\n",
    "    normalizer = Normalizer()\n",
    "    lemmatizer = Lemmatizer()\n",
    "    tokenizer = WordTokenizer()\n",
    "    useless_words = set(stopwords_list() + ['.', '،', '؛', '[', ']', '{', '}', '(', ')', '?', '!', ':', ';', '\\\"', '\\'', '*', '/', '+',\n",
    "       '%', '#', '@','-', '_', '\\r\\n', '\\n', '«', '»', '>', '<', '=', '۹', '۸', '۷', '۶', '۵', '۴', '۳', '۲', '۱','.', '...', ])\n",
    "    \n",
    "    def __init__(self, dataset):\n",
    "        self.dataset = dataset\n",
    "    \n",
    "    def preprocess(self):\n",
    "        for i in range(len(self.dataset)):\n",
    "            self.dataset['content'][i] = self.__preprocess_util(self.dataset['content'][i])\n",
    "        return self.dataset\n",
    "    \n",
    "    def __preprocess_util(self, text):\n",
    "        text = self.normalizer.normalize(text)\n",
    "        text = self.tokenizer.tokenize(text)\n",
    "        words = [self.lemmatizer.lemmatize(word) for word in text if not (word in self.useless_words)]\n",
    "        return words"
   ]
  },
  {
   "cell_type": "code",
   "execution_count": 2,
   "id": "411f601f",
   "metadata": {},
   "outputs": [
    {
     "data": {
      "text/html": [
       "<div>\n",
       "<style scoped>\n",
       "    .dataframe tbody tr th:only-of-type {\n",
       "        vertical-align: middle;\n",
       "    }\n",
       "\n",
       "    .dataframe tbody tr th {\n",
       "        vertical-align: top;\n",
       "    }\n",
       "\n",
       "    .dataframe thead th {\n",
       "        text-align: right;\n",
       "    }\n",
       "</style>\n",
       "<table border=\"1\" class=\"dataframe\">\n",
       "  <thead>\n",
       "    <tr style=\"text-align: right;\">\n",
       "      <th></th>\n",
       "      <th>content</th>\n",
       "      <th>label</th>\n",
       "    </tr>\n",
       "  </thead>\n",
       "  <tbody>\n",
       "    <tr>\n",
       "      <th>0</th>\n",
       "      <td>[فیلم, اکران, موزیکال, شاد, خاله, قورباغه, بزر...</td>\n",
       "      <td>هنر و سینما</td>\n",
       "    </tr>\n",
       "    <tr>\n",
       "      <th>1</th>\n",
       "      <td>[فیلمسازی, کوئنتین, تارانتینو, عاشق, سینما, کم...</td>\n",
       "      <td>هنر و سینما</td>\n",
       "    </tr>\n",
       "    <tr>\n",
       "      <th>2</th>\n",
       "      <td>[جان, آیو, اپل, جان, آیو, نیاز, معرف, تقریبا, ...</td>\n",
       "      <td>علم و تکنولوژی</td>\n",
       "    </tr>\n",
       "    <tr>\n",
       "      <th>3</th>\n",
       "      <td>[احتمال, پشتیبان, iOS, ۱۳, آیفون, اس, SE, آیفو...</td>\n",
       "      <td>علم و تکنولوژی</td>\n",
       "    </tr>\n",
       "    <tr>\n",
       "      <th>4</th>\n",
       "      <td>[دزد, مغازه, نماینده, ژاپن, اسکار, ۲۰۱۹, فیلم,...</td>\n",
       "      <td>هنر و سینما</td>\n",
       "    </tr>\n",
       "    <tr>\n",
       "      <th>...</th>\n",
       "      <td>...</td>\n",
       "      <td>...</td>\n",
       "    </tr>\n",
       "    <tr>\n",
       "      <th>5195</th>\n",
       "      <td>[امپراطوری, اپ, فصل, اول/بخش, فصل, –, دوماپ, ,...</td>\n",
       "      <td>سلامت و زیبایی</td>\n",
       "    </tr>\n",
       "    <tr>\n",
       "      <th>5196</th>\n",
       "      <td>[ارتباطات, اثربخش, تعارض, محیط, کار, سازمان, و...</td>\n",
       "      <td>سلامت و زیبایی</td>\n",
       "    </tr>\n",
       "    <tr>\n",
       "      <th>5197</th>\n",
       "      <td>[اپل, سال, ۲۰۲۰, آیفون, معرف, گزارش, JPMorgan,...</td>\n",
       "      <td>علم و تکنولوژی</td>\n",
       "    </tr>\n",
       "    <tr>\n",
       "      <th>5198</th>\n",
       "      <td>[مارتینز, بلژیک, مقابل, فرانسه, ترس, بازی, سرم...</td>\n",
       "      <td>سلامت و زیبایی</td>\n",
       "    </tr>\n",
       "    <tr>\n",
       "      <th>5199</th>\n",
       "      <td>[شیائومی, تاریخ, عرضه, گوش, گیمینگ, Black, Sha...</td>\n",
       "      <td>علم و تکنولوژی</td>\n",
       "    </tr>\n",
       "  </tbody>\n",
       "</table>\n",
       "<p>5200 rows × 2 columns</p>\n",
       "</div>"
      ],
      "text/plain": [
       "                                                content           label\n",
       "0     [فیلم, اکران, موزیکال, شاد, خاله, قورباغه, بزر...     هنر و سینما\n",
       "1     [فیلمسازی, کوئنتین, تارانتینو, عاشق, سینما, کم...     هنر و سینما\n",
       "2     [جان, آیو, اپل, جان, آیو, نیاز, معرف, تقریبا, ...  علم و تکنولوژی\n",
       "3     [احتمال, پشتیبان, iOS, ۱۳, آیفون, اس, SE, آیفو...  علم و تکنولوژی\n",
       "4     [دزد, مغازه, نماینده, ژاپن, اسکار, ۲۰۱۹, فیلم,...     هنر و سینما\n",
       "...                                                 ...             ...\n",
       "5195  [امپراطوری, اپ, فصل, اول/بخش, فصل, –, دوماپ, ,...  سلامت و زیبایی\n",
       "5196  [ارتباطات, اثربخش, تعارض, محیط, کار, سازمان, و...  سلامت و زیبایی\n",
       "5197  [اپل, سال, ۲۰۲۰, آیفون, معرف, گزارش, JPMorgan,...  علم و تکنولوژی\n",
       "5198  [مارتینز, بلژیک, مقابل, فرانسه, ترس, بازی, سرم...  سلامت و زیبایی\n",
       "5199  [شیائومی, تاریخ, عرضه, گوش, گیمینگ, Black, Sha...  علم و تکنولوژی\n",
       "\n",
       "[5200 rows x 2 columns]"
      ]
     },
     "execution_count": 2,
     "metadata": {},
     "output_type": "execute_result"
    }
   ],
   "source": [
    "train_data = pd.read_csv('Data/train.csv')\n",
    "train_data['content'].fillna(train_data['label'], inplace=True)\n",
    "\n",
    "data_preprocessor = DataPreprocessor(train_data)\n",
    "clean_train_df = data_preprocessor.preprocess()\n",
    "clean_train_df"
   ]
  },
  {
   "cell_type": "code",
   "execution_count": 3,
   "id": "81b9ba31",
   "metadata": {},
   "outputs": [
    {
     "data": {
      "text/plain": [
       "هنر و سینما       1300\n",
       "علم و تکنولوژی    1300\n",
       "سلامت و زیبایی    1300\n",
       "بازی ویدیویی      1300\n",
       "Name: label, dtype: int64"
      ]
     },
     "execution_count": 3,
     "metadata": {},
     "output_type": "execute_result"
    }
   ],
   "source": [
    "clean_train_df['label'].value_counts()"
   ]
  },
  {
   "cell_type": "markdown",
   "id": "8ed556cc",
   "metadata": {},
   "source": [
    "## Part 2: Process\n",
    "We use bag of words method for magazine content to count words related to category. <br>\n",
    "\n",
    "__Q2:__ \n",
    "- $c$: Magazine category. \n",
    "- Evidence $x$: Number of appearences of word. by seeing evidence we want to calculate posterior probability.\n",
    "- Likelihood $p(x|c)$: Probability of having evidence in category c. This probability computed by means of given dataset.\n",
    "- Prior $p(c)$: Probability of seeing magazine with category $c$.It is equal for all categories since they all have occured the same number of times in the dataset.(see above)\n",
    "- Posterior $p(c|x)$ : Probability of belonging magazine to $c$ which results in the word $x$ has appeared in the magazine.We use this probability to classify."
   ]
  },
  {
   "cell_type": "code",
   "execution_count": 4,
   "id": "27ca1d39",
   "metadata": {},
   "outputs": [],
   "source": [
    "science_tec = dict()\n",
    "art_cinema = dict()\n",
    "game = dict()\n",
    "health_beauty = dict()\n",
    "for idx, row in clean_train_df.iterrows():\n",
    "    for word in row['content']:\n",
    "        if row['label'] == 'علم و تکنولوژی':\n",
    "            science_tec[word] = science_tec.get(word, 0) + 1\n",
    "        if row['label'] == 'هنر و سینما':\n",
    "            art_cinema[word] = art_cinema.get(word, 0) + 1\n",
    "        if row['label'] == 'بازی ویدیویی':\n",
    "            game[word] = game.get(word, 0) + 1\n",
    "        if row['label'] == 'سلامت و زیبایی':\n",
    "            health_beauty[word] = health_beauty.get(word, 0) + 1\n"
   ]
  },
  {
   "cell_type": "markdown",
   "id": "fe04a746",
   "metadata": {},
   "source": [
    "## Part 3: Bigrams\n",
    "__Q3:__ \n",
    "- شیر سلطان جنگل است\n",
    "- شیر سرشار از کلسیم است\n",
    "\n",
    "In the above sentences, by using unigram, we can not distinguish 'شیر' meanings. If we use bigrams the different meanings of the 'شیر' can be distinguished properly.(maybe using bigrams in second sentence cause ambiguity thus 3-grams is better choice!) "
   ]
  },
  {
   "cell_type": "markdown",
   "id": "686dac18",
   "metadata": {},
   "source": [
    "## Part 4: ‫‪Additive‬‬ ‫‪Smoothing‬‬\n",
    "__Q4:__ If word w in our test dataset was not appeared in content of category c, probability of belonging to that category would be zero, So the likelihood will be zero and according to the $p(x_1|c)*p(x_2|c)*...*p(x_n|c)$ in Naive Bayes theorem, $p(c|x) = 0$.<br>\n",
    "\n",
    "__Q5:__ \n",
    "$$ P_\\alpha(x_i | c) = \\frac {x_i + \\alpha}{N + \\alpha D} $$\n",
    "where :\n",
    "- $P_\\alpha(x_i | c)$ is additive smoothed probability of evidence $x_i$ in category c.\n",
    "- $x_i$ is number of all appearences of a word in category c.\n",
    "- $\\alpha$ is additive smoothing.\n",
    "- $N$ is total number of words in category c.\n",
    "- $D$ is number of distinct words in category c.\n",
    "\n",
    "_Note:_ By assuming $\\alpha = 0$ may get $p(x_i|c) = 0$, but with $\\alpha > 0$ we guarantee that $ p(x_i|c) > 0$."
   ]
  },
  {
   "cell_type": "markdown",
   "id": "85692a09",
   "metadata": {},
   "source": [
    "## Verifying Correctness\n",
    "__Q6:__ We know that if we have words which they are frequent in all categories, these words cann't be usefull for prediction. Our task is to remove these words for domain.\n"
   ]
  },
  {
   "cell_type": "code",
   "execution_count": 5,
   "id": "605c53c7",
   "metadata": {},
   "outputs": [
    {
     "data": {
      "image/png": "[encoded data removed]",
      "text/plain": [
       "<Figure size 1080x720 with 4 Axes>"
      ]
     },
     "metadata": {
      "needs_background": "light"
     },
     "output_type": "display_data"
    }
   ],
   "source": [
    "import matplotlib.pyplot as plot\n",
    "\n",
    "categories = {'علم و تکنولوژی':science_tec, 'هنر و سینما':art_cinema, 'بازی ویدیویی':game, 'سلامت و زیبایی':health_beauty}\n",
    "\n",
    "plot.figure(figsize=(15,10))\n",
    "i = 0\n",
    "for c, f  in categories.items():\n",
    "    plot.subplot(2, 3, i + 1)\n",
    "    sorted_freq = sorted(f.items(), key=lambda x: x[1], reverse=True)\n",
    "    x = []\n",
    "    y = []\n",
    "    for item in sorted_freq[0:6]:\n",
    "        x.append(item[0])\n",
    "        y.append(item[1])\n",
    "    plot.bar(x, y, width=0.5)\n",
    "    plot.ylabel('Frequency')\n",
    "    plot.title(c)\n",
    "    plot.grid()\n",
    "    i += 1\n",
    "plot.tight_layout()\n",
    "plot.show()"
   ]
  },
  {
   "cell_type": "code",
   "execution_count": null,
   "id": "4bba035c",
   "metadata": {},
   "outputs": [],
   "source": []
  }
 ],
 "metadata": {
  "kernelspec": {
   "display_name": "Python 3 (ipykernel)",
   "language": "python",
   "name": "python3"
  },
  "language_info": {
   "codemirror_mode": {
    "name": "ipython",
    "version": 3
   },
   "file_extension": ".py",
   "mimetype": "text/x-python",
   "name": "python",
   "nbconvert_exporter": "python",
   "pygments_lexer": "ipython3",
   "version": "3.7.5"
  }
 },
 "nbformat": 4,
 "nbformat_minor": 5
}
