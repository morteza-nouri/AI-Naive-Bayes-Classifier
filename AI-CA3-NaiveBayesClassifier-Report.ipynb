{
 "cells": [
  {
   "cell_type": "markdown",
   "id": "515384f9",
   "metadata": {},
   "source": [
    "# Artificial Intelligence :  Computer Assignment 3 - Naive Bayes Classifier\n",
    "> __Morteza Nouri, 810198481__\n",
    "\n",
    "## Goals:\n",
    "- Usage of Naive Bayes theorem\n",
    "- analyzing and classifying text\n",
    "- \n",
    "\n",
    "## Description:\n",
    "> \n"
   ]
  },
  {
   "cell_type": "markdown",
   "id": "42d8dd50",
   "metadata": {},
   "source": [
    "## Part 1: Preprocess\n"
   ]
  }
 ],
 "metadata": {
  "kernelspec": {
   "display_name": "Python 3 (ipykernel)",
   "language": "python",
   "name": "python3"
  },
  "language_info": {
   "codemirror_mode": {
    "name": "ipython",
    "version": 3
   },
   "file_extension": ".py",
   "mimetype": "text/x-python",
   "name": "python",
   "nbconvert_exporter": "python",
   "pygments_lexer": "ipython3",
   "version": "3.7.5"
  }
 },
 "nbformat": 4,
 "nbformat_minor": 5
}
